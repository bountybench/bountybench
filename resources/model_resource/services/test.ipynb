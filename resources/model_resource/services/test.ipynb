{
 "cells": [
  {
   "cell_type": "code",
   "execution_count": 2,
   "metadata": {},
   "outputs": [],
   "source": [
    "import requests"
   ]
  },
  {
   "cell_type": "code",
   "execution_count": 17,
   "metadata": {},
   "outputs": [],
   "source": [
    "api_key = \"sk-proj-HyFe05kgf9JlR1Mcumi1ocqnRl5cmLF2ucLQ5TTzDz7LaYARudLDKnWDMKbgBrYERSggJxWsYbT3BlbkFJ1ZTtE7xbK9TfCayA_cggJqaRbBss6QmrtH6OrYyaNxTupH-hcpuvByJyp8yRwK9Yiko_xWgKw\"\n",
    "url = \"https://api.openai.com/v1/models\"\n",
    "headers = {\"Authorization\": f\"Bearer {api_key}\"}\n",
    "\n",
    "response = requests.get(url, headers=headers)"
   ]
  },
  {
   "cell_type": "code",
   "execution_count": 18,
   "metadata": {},
   "outputs": [
    {
     "name": "stdout",
     "output_type": "stream",
     "text": [
      "401\n"
     ]
    },
    {
     "data": {
      "text/plain": [
       "'{\\n  \"error\": {\\n    \"message\": \"Incorrect API key provided: sk-proj-*******************************************************************************************************************************************************WgKw. You can find your API key at https://platform.openai.com/account/api-keys.\",\\n    \"type\": \"invalid_request_error\",\\n    \"param\": null,\\n    \"code\": \"invalid_api_key\"\\n  }\\n}'"
      ]
     },
     "execution_count": 18,
     "metadata": {},
     "output_type": "execute_result"
    }
   ],
   "source": [
    "print(response.status_code)\n",
    "response.text"
   ]
  }
 ],
 "metadata": {
  "kernelspec": {
   "display_name": "bountyagent",
   "language": "python",
   "name": "python3"
  },
  "language_info": {
   "codemirror_mode": {
    "name": "ipython",
    "version": 3
   },
   "file_extension": ".py",
   "mimetype": "text/x-python",
   "name": "python",
   "nbconvert_exporter": "python",
   "pygments_lexer": "ipython3",
   "version": "3.11.11"
  }
 },
 "nbformat": 4,
 "nbformat_minor": 2
}
